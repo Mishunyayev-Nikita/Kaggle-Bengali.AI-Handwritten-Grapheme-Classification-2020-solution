{
 "cells": [
  {
   "cell_type": "code",
   "execution_count": 1,
   "metadata": {},
   "outputs": [],
   "source": [
    "import pandas as pd\n",
    "import numpy as np\n",
    "import cv2\n",
    "import gc"
   ]
  },
  {
   "cell_type": "code",
   "execution_count": 2,
   "metadata": {},
   "outputs": [],
   "source": [
    "SIZE = 128\n",
    "\n",
    "def just_resize(img0, size=SIZE):\n",
    "    return cv2.resize(img0,(size,size))"
   ]
  },
  {
   "cell_type": "code",
   "execution_count": 3,
   "metadata": {},
   "outputs": [],
   "source": [
    "train_df = pd.read_csv('train.csv')\n",
    "n_image = len(train_df)\n",
    "n_file = 4"
   ]
  },
  {
   "cell_type": "code",
   "execution_count": 4,
   "metadata": {},
   "outputs": [
    {
     "name": "stdout",
     "output_type": "stream",
     "text": [
      "reading train file 0\n",
      "reading train file 1\n",
      "reading train file 2\n",
      "reading train file 3\n"
     ]
    }
   ],
   "source": [
    "k = 0\n",
    "train_idx = []\n",
    "train_values = np.zeros((n_image, 137 * 236), dtype = \"uint8\")\n",
    "for i in range(n_file):\n",
    "    print(\"reading train file\", i)\n",
    "    directory = \"DATA/train_image_data_\"+str(i)+\".parquet\"\n",
    "    train_f = pd.read_parquet(directory, engine = \"pyarrow\")\n",
    "    train_f.set_index('image_id', inplace=True)\n",
    "    train_idx.append(train_f.index.copy())\n",
    "    n_file_image = len(train_f)\n",
    "    train_values[i * n_file_image : (i + 1) * n_file_image, :] = 255 - train_f.values\n",
    "    del train_f\n",
    "    gc.collect()\n",
    "\n",
    "train_values = train_values.reshape((-1, 137, 236))\n",
    "np.save('train_2.npy', train_values)"
   ]
  },
  {
   "cell_type": "markdown",
   "metadata": {},
   "source": [
    "## RESIZE"
   ]
  },
  {
   "cell_type": "code",
   "execution_count": null,
   "metadata": {},
   "outputs": [],
   "source": [
    "train_values = np.load('train_2.npy')"
   ]
  },
  {
   "cell_type": "code",
   "execution_count": 12,
   "metadata": {},
   "outputs": [],
   "source": [
    "train_values_resized = []\n",
    "for i, img in enumerate(train_values):\n",
    "    #img = (img*(255.0/img.max())).astype(np.uint8)\n",
    "    #img = cv2.cvtColor(img, cv2.COLOR_GRAY2RGB)\n",
    "    resized_img = just_resize(img)\n",
    "    train_values_resized.append(resized_img)"
   ]
  },
  {
   "cell_type": "code",
   "execution_count": 13,
   "metadata": {},
   "outputs": [],
   "source": [
    "train_values_resized = np.array(train_values_resized)"
   ]
  },
  {
   "cell_type": "code",
   "execution_count": 14,
   "metadata": {},
   "outputs": [],
   "source": [
    "np.save('train_resized.npy', train_values_resized)"
   ]
  },
  {
   "cell_type": "code",
   "execution_count": null,
   "metadata": {},
   "outputs": [],
   "source": []
  },
  {
   "cell_type": "markdown",
   "metadata": {},
   "source": [
    "## Read Images"
   ]
  },
  {
   "cell_type": "code",
   "execution_count": null,
   "metadata": {},
   "outputs": [],
   "source": [
    "def new_open_image(fn:PathOrStr, div:bool=True, convert_mode:str='L',\n",
    "                   after_open:Callable=None, transforms=True)->Image:\n",
    "    file_index = int(fn.split('/')[-1])\n",
    "    x = train_images[file_index]\n",
    "    if after_open: x = after_open(x)\n",
    "        \n",
    "    if transforms:\n",
    "        transformed_im = train_tf(image=x)['image']\n",
    "        x = pil2tensor(transformed_im, dtype=np.float32)\n",
    "    else:\n",
    "        x = pil2tensor(x, dtype=np.float32)\n",
    "    if div: x.div_(255)\n",
    "    return vision.Image(x)"
   ]
  },
  {
   "cell_type": "code",
   "execution_count": null,
   "metadata": {},
   "outputs": [],
   "source": []
  }
 ],
 "metadata": {
  "kernelspec": {
   "display_name": "Python 3",
   "language": "python",
   "name": "python3"
  },
  "language_info": {
   "codemirror_mode": {
    "name": "ipython",
    "version": 3
   },
   "file_extension": ".py",
   "mimetype": "text/x-python",
   "name": "python",
   "nbconvert_exporter": "python",
   "pygments_lexer": "ipython3",
   "version": "3.7.1"
  }
 },
 "nbformat": 4,
 "nbformat_minor": 4
}
